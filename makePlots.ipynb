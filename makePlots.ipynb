{
 "cells": [
  {
   "cell_type": "code",
   "execution_count": 1,
   "metadata": {},
   "outputs": [],
   "source": [
    "import os\n",
    "\n",
    "import pandas as pd\n",
    "import numpy as np\n",
    "import matplotlib.pyplot as plt\n",
    "\n",
    "datapath = \"Data\"\n",
    "figurepath = \"Figures\""
   ]
  },
  {
   "cell_type": "code",
   "execution_count": 2,
   "metadata": {},
   "outputs": [],
   "source": [
    "df = pd.read_csv(os.path.join(datapath, \"data.csv\"))\n",
    "df = df[df[\"Study design\"] != \"Non random\"]\n",
    "df[\"Seroprotection\"] = df[\"Seroprotection no. (%)\"].str.replace(r\"\\(.*\\)\",\"\")"
   ]
  },
  {
   "cell_type": "code",
   "execution_count": 32,
   "metadata": {},
   "outputs": [
    {
     "data": {
      "text/html": [
       "<div>\n",
       "<style scoped>\n",
       "    .dataframe tbody tr th:only-of-type {\n",
       "        vertical-align: middle;\n",
       "    }\n",
       "\n",
       "    .dataframe tbody tr th {\n",
       "        vertical-align: top;\n",
       "    }\n",
       "\n",
       "    .dataframe thead th {\n",
       "        text-align: right;\n",
       "    }\n",
       "</style>\n",
       "<table border=\"1\" class=\"dataframe\">\n",
       "  <thead>\n",
       "    <tr style=\"text-align: right;\">\n",
       "      <th></th>\n",
       "      <th>Sample size</th>\n",
       "      <th>Seroprotection</th>\n",
       "    </tr>\n",
       "    <tr>\n",
       "      <th>Weight group</th>\n",
       "      <th></th>\n",
       "      <th></th>\n",
       "    </tr>\n",
       "  </thead>\n",
       "  <tbody>\n",
       "    <tr>\n",
       "      <th>Normal</th>\n",
       "      <td>275</td>\n",
       "      <td>71 17 19 20 18 16 10</td>\n",
       "    </tr>\n",
       "    <tr>\n",
       "      <th>Obese</th>\n",
       "      <td>13</td>\n",
       "      <td>7</td>\n",
       "    </tr>\n",
       "    <tr>\n",
       "      <th>Overweight</th>\n",
       "      <td>18</td>\n",
       "      <td>11</td>\n",
       "    </tr>\n",
       "    <tr>\n",
       "      <th>Overweight/obese</th>\n",
       "      <td>168</td>\n",
       "      <td>26 24 26 22 22 20</td>\n",
       "    </tr>\n",
       "    <tr>\n",
       "      <th>Underweight</th>\n",
       "      <td>10</td>\n",
       "      <td>2</td>\n",
       "    </tr>\n",
       "  </tbody>\n",
       "</table>\n",
       "</div>"
      ],
      "text/plain": [
       "                  Sample size           Seroprotection\n",
       "Weight group                                          \n",
       "Normal                    275  71 17 19 20 18 16 10   \n",
       "Obese                      13                       7 \n",
       "Overweight                 18                      11 \n",
       "Overweight/obese          168       26 24 26 22 22 20 \n",
       "Underweight                10                       2 "
      ]
     },
     "execution_count": 32,
     "metadata": {},
     "output_type": "execute_result"
    }
   ],
   "source": [
    "groupByWeight"
   ]
  },
  {
   "cell_type": "code",
   "execution_count": 34,
   "metadata": {},
   "outputs": [
    {
     "data": {
      "image/png": "[encoded data removed]",
      "text/plain": [
       "<Figure size 432x288 with 1 Axes>"
      ]
     },
     "metadata": {
      "needs_background": "light"
     },
     "output_type": "display_data"
    }
   ],
   "source": [
    "children = df[df[\"Subject\"] == \"Children\"]\n",
    "\n",
    "weightVSprotect = children[(children[\"Vaccine strain\"] == \"H1N1\") | (children[\"Vaccine strain\"] == \"trivalent\")]\n",
    "weightVSprotect = weightVSprotect[[\"Sample size\", \"Seroprotection\", \"Weight group\"]].dropna()\n",
    "weightVSprotect[\"Seroprotection\"] = weightVSprotect[\"Seroprotection\"].astype(int)\n",
    "weightVSprotect = weightVSprotect[weightVSprotect[\"Weight group\"] != \"Underweight\"]\n",
    "\n",
    "groupByWeight = weightVSprotect.groupby(\"Weight group\").agg({\"Sample size\": \"sum\", \"Seroprotection\": \"sum\"})\n",
    "groupByWeight[\"Seroprotection rate\"] = groupByWeight[\"Seroprotection\"] / groupByWeight[\"Sample size\"]\n",
    "groupByWeight = groupByWeight.reindex([\"Normal\", \"Overweight\", \"Overweight/obese\", \"Obese\"])\n",
    "\n",
    "y_pos = np.arange(len(groupByWeight))\n",
    "\n",
    "plt.barh(y_pos, groupByWeight[\"Seroprotection rate\"])\n",
    "plt.yticks(y_pos, groupByWeight.index.values)\n",
    "plt.gca().set_title(\"Seroprotection rate\", fontsize=20)\n",
    "plt.xlim(0,1)\n",
    "plt.savefig(os.path.join(figurepath, \"Seroprotection.pdf\"), figsize=(5, 6))\n",
    "plt.show()"
   ]
  },
  {
   "cell_type": "code",
   "execution_count": 36,
   "metadata": {},
   "outputs": [
    {
     "data": {
      "image/png": "[encoded data removed]",
      "text/plain": [
       "<Figure size 432x288 with 1 Axes>"
      ]
     },
     "metadata": {
      "needs_background": "light"
     },
     "output_type": "display_data"
    }
   ],
   "source": [
    "weightVSadverse = children[[\"Sample size\", \"System adverse no.\", \"Weight group\"]].dropna()\n",
    "weightVSadverse = weightVSadverse[weightVSadverse[\"Weight group\"] != \"Underweight\"]\n",
    "weightVSadverse[\"System adverse no.\"] = weightVSadverse[\"System adverse no.\"].astype(int)\n",
    "\n",
    "groupByWeight = weightVSadverse.groupby(\"Weight group\").agg({\"Sample size\": \"sum\", \"System adverse no.\": \"sum\"})\n",
    "groupByWeight[\"AE rate\"] = groupByWeight[\"System adverse no.\"] / groupByWeight[\"Sample size\"]\n",
    "groupByWeight = groupByWeight.reindex([\"Normal\", \"Overweight/obese\"])\n",
    "\n",
    "y_pos = np.arange(len(groupByWeight))\n",
    "\n",
    "plt.barh(y_pos, groupByWeight[\"AE rate\"])\n",
    "plt.yticks(y_pos, groupByWeight.index.values)\n",
    "plt.gca().set_title(\"System adverse event rate\", fontsize=20)\n",
    "plt.xlim(0,1)\n",
    "plt.savefig(os.path.join(figurepath, \"AE.pdf\"))\n",
    "plt.show()"
   ]
  },
  {
   "cell_type": "code",
   "execution_count": 25,
   "metadata": {},
   "outputs": [
    {
     "data": {
      "image/png": "[encoded data removed]",
      "text/plain": [
       "<Figure size 360x432 with 2 Axes>"
      ]
     },
     "metadata": {
      "needs_background": "light"
     },
     "output_type": "display_data"
    }
   ],
   "source": [
    "plt.figure(figsize=(5,6))\n",
    "plt.subplots_adjust(left=0.3, top=0.95, bottom=0.05, hspace=0.4)\n",
    "\n",
    "weightVSprotect = df[(df[\"Vaccine strain\"] == \"H1N1\") | (df[\"Vaccine strain\"] == \"trivalent\")]\n",
    "weightVSprotect = weightVSprotect[[\"Sample size\", \"Seroprotection\", \"Weight group\"]].dropna()\n",
    "weightVSprotect[\"Seroprotection\"] = weightVSprotect[\"Seroprotection\"].astype(int)\n",
    "weightVSprotect = weightVSprotect[weightVSprotect[\"Weight group\"] != \"Underweight\"]\n",
    "\n",
    "groupByWeight = weightVSprotect.groupby(\"Weight group\").agg({\"Sample size\": \"sum\", \"Seroprotection\": \"sum\"})\n",
    "groupByWeight[\"Seroprotection rate\"] = groupByWeight[\"Seroprotection\"] / groupByWeight[\"Sample size\"]\n",
    "groupByWeight = groupByWeight.reindex([\"Non-obese\", \"Normal\", \"Overweight\", \"Overweight/obese\", \"Obese\", \"Morbid obese\"])\n",
    "\n",
    "y_pos = np.arange(len(groupByWeight))\n",
    "\n",
    "plt.subplot(2,1,1)\n",
    "plt.barh(y_pos, groupByWeight[\"Seroprotection rate\"])\n",
    "plt.yticks(y_pos, groupByWeight.index.values)\n",
    "plt.gca().set_title(\"Seroprotection rate\")\n",
    "plt.xlim(0,1)\n",
    "\n",
    "weightVSadverse = df[[\"Sample size\", \"System adverse no.\", \"Weight group\"]].dropna()\n",
    "weightVSadverse = weightVSadverse[weightVSadverse[\"Weight group\"] != \"Underweight\"]\n",
    "weightVSadverse[\"System adverse no.\"] = weightVSadverse[\"System adverse no.\"].astype(int)\n",
    "\n",
    "groupByWeight = weightVSadverse.groupby(\"Weight group\").agg({\"Sample size\": \"sum\", \"System adverse no.\": \"sum\"})\n",
    "groupByWeight[\"AE rate\"] = groupByWeight[\"System adverse no.\"] / groupByWeight[\"Sample size\"]\n",
    "groupByWeight = groupByWeight.reindex([\"Normal\", \"Overweight\", \"Overweight/obese\", \"Obese\"])\n",
    "\n",
    "y_pos = np.arange(len(groupByWeight))\n",
    "\n",
    "plt.subplot(2,1,2)\n",
    "plt.barh(y_pos, groupByWeight[\"AE rate\"])\n",
    "plt.yticks(y_pos, groupByWeight.index.values)\n",
    "plt.gca().set_title(\"System adverse event rate\")\n",
    "plt.xlim(0,1)\n",
    "\n",
    "plt.savefig(os.path.join(figurepath, \"comparison.pdf\"))\n",
    "plt.show()"
   ]
  }
 ],
 "metadata": {
  "kernelspec": {
   "display_name": "Python 3",
   "language": "python",
   "name": "python3"
  },
  "language_info": {
   "codemirror_mode": {
    "name": "ipython",
    "version": 3
   },
   "file_extension": ".py",
   "mimetype": "text/x-python",
   "name": "python",
   "nbconvert_exporter": "python",
   "pygments_lexer": "ipython3",
   "version": "3.5.3"
  }
 },
 "nbformat": 4,
 "nbformat_minor": 2
}
